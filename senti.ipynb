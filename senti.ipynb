{
 "cells": [
  {
   "cell_type": "code",
   "execution_count": 0,
   "metadata": {
    "colab": {},
    "colab_type": "code",
    "collapsed": true,
    "deletable": true,
    "editable": true,
    "id": "CmTHFHotn9QZ"
   },
   "outputs": [],
   "source": [
    "punctuation_chars = [\"'\", '\"', \",\", \".\", \"!\", \":\", \";\", '#', '@']\n",
    "def strip_punctuation(word):\n",
    "    newword = ''\n",
    "    for char in word:\n",
    "        #print(char)\n",
    "        t=char\n",
    "        if char in punctuation_chars:\n",
    "            t = char.replace(char,'')\n",
    "        newword = newword+t\n",
    "    return newword;\n",
    "# list of positive words to use\n",
    "positive_words = []\n",
    "with open(\"positive_words.txt\") as pos_f:\n",
    "    for lin in pos_f:\n",
    "        if lin[0] != ';' and lin[0] != '/n':\n",
    "            positive_words.append(lin.strip())\n",
    "def get_pos(tweet):\n",
    "    num = 0\n",
    "    sentence = tweet.strip().split()\n",
    "    #print(sentence)\n",
    "    for word in sentence:\n",
    "        nword = strip_punctuation(word.lower())\n",
    "        if(nword in positive_words):\n",
    "   # if sentence.lower() in positive_words:\n",
    "            num+=1\n",
    "    return num\n",
    "negative_words = []\n",
    "with open(\"negative_words.txt\") as pos_f:\n",
    "    for lin in pos_f:\n",
    "        if lin[0] != ';' and lin[0] != '\\n':\n",
    "            negative_words.append(lin.strip())\n",
    "def get_neg(tweet):\n",
    "    num = 0\n",
    "    sentence = tweet.strip().split()\n",
    "    #print(sentence)\n",
    "    for word in sentence:\n",
    "        nword = strip_punctuation(word.lower())\n",
    "        if(nword in negative_words):\n",
    "   # if sentence.lower() in positive_words:\n",
    "            num+=1\n",
    "    return num\n",
    "tweet_file = open(\"project_twitter_data.csv\",\"r\")\n",
    "datalines = tweet_file.readlines()\n",
    "fieldnames = datalines[0]\n",
    "result_file = open(\"resulting_data.csv\",\"w\")\n",
    "result_file.write('Number of Retweets, Number of Replies, Positive Score, Negative Score, Net Score')\n",
    "result_file.write('\\n')\n",
    "#print(fieldnames)\n",
    "for row in datalines[1:]:\n",
    "    data = row.strip().split(',')\n",
    "    tweet_text = data[0]\n",
    "    retweet_count = data[1]\n",
    "    reply_count = data[2]\n",
    "    pos_score = get_pos(tweet_text)\n",
    "    neg_score = get_neg(tweet_text)\n",
    "    net_score = pos_score - neg_score\n",
    "    #print(data)\n",
    "    totalstring = '{},{},{},{},{}'.format(retweet_count,reply_count,pos_score,neg_score,net_score)\n",
    "    result_file.write(totalstring)\n",
    "    result_file.write('\\n')\n",
    "    \n",
    "    "
   ]
  },
  {
   "cell_type": "code",
   "execution_count": 0,
   "metadata": {
    "colab": {},
    "colab_type": "code",
    "collapsed": true,
    "deletable": true,
    "editable": true,
    "id": "Nkw6Y--F2Ks4"
   },
   "outputs": [],
   "source": []
  }
 ],
 "metadata": {
  "colab": {
   "name": "senti.ipynb",
   "provenance": []
  },
  "kernelspec": {
   "display_name": "Python 3",
   "language": "python",
   "name": "python3"
  },
  "language_info": {
   "codemirror_mode": {
    "name": "ipython",
    "version": 3
   },
   "file_extension": ".py",
   "mimetype": "text/x-python",
   "name": "python",
   "nbconvert_exporter": "python",
   "pygments_lexer": "ipython3",
   "version": "3.5.2"
  }
 },
 "nbformat": 4,
 "nbformat_minor": 0
}
